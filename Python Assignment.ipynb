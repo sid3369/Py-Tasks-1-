{
 "cells": [
  {
   "cell_type": "markdown",
   "id": "3f02cefc",
   "metadata": {},
   "source": [
    "###### 1) Create a basic function that returns True if the word 'dog' is contained in the input string. Don't worry about edge cases like a punctuation being attached to the word dog, but do account for capitalization."
   ]
  },
  {
   "cell_type": "code",
   "execution_count": 24,
   "id": "5606717d",
   "metadata": {},
   "outputs": [],
   "source": [
    "def is_dog(s):\n",
    "    if \"dog\" in s.lower().split():\n",
    "        return True\n",
    "    else:\n",
    "        return False"
   ]
  },
  {
   "cell_type": "code",
   "execution_count": 25,
   "id": "98c0c52a",
   "metadata": {},
   "outputs": [
    {
     "data": {
      "text/plain": [
       "True"
      ]
     },
     "execution_count": 25,
     "metadata": {},
     "output_type": "execute_result"
    }
   ],
   "source": [
    "is_dog(\"this is a Dog\")"
   ]
  },
  {
   "cell_type": "markdown",
   "id": "5334cbcc",
   "metadata": {},
   "source": [
    "###### Create a function that counts the number of times the word \"dog\" occurs in a string. Again ignore edge cases."
   ]
  },
  {
   "cell_type": "code",
   "execution_count": 40,
   "id": "dbc9b6e9",
   "metadata": {},
   "outputs": [],
   "source": [
    "def count(s):\n",
    "    c = 0\n",
    "    for d in s.lower().split():\n",
    "        if d==\"dog\":\n",
    "            c+=1\n",
    "    return c        "
   ]
  },
  {
   "cell_type": "code",
   "execution_count": 41,
   "id": "6941244e",
   "metadata": {},
   "outputs": [
    {
     "data": {
      "text/plain": [
       "2"
      ]
     },
     "execution_count": 41,
     "metadata": {},
     "output_type": "execute_result"
    }
   ],
   "source": [
    "count(\"hi dog , there is a dog\")"
   ]
  },
  {
   "cell_type": "markdown",
   "id": "89459491",
   "metadata": {},
   "source": [
    "Use lambda expressions and the filter() function to filter out words from a list that don't start with the letter 's'.###### "
   ]
  },
  {
   "cell_type": "code",
   "execution_count": 42,
   "id": "c19238fb",
   "metadata": {},
   "outputs": [],
   "source": [
    "l = [\"sid\",\"tej\",\"emily\",\"suyash\",\"sam\",\"vinod\"]\n",
    "f = list(filter(lambda x:x[0]!=\"s\",l))\n"
   ]
  },
  {
   "cell_type": "code",
   "execution_count": 43,
   "id": "7cc5db3f",
   "metadata": {},
   "outputs": [
    {
     "data": {
      "text/plain": [
       "['tej', 'emily', 'vinod']"
      ]
     },
     "execution_count": 43,
     "metadata": {},
     "output_type": "execute_result"
    }
   ],
   "source": [
    "f"
   ]
  },
  {
   "cell_type": "markdown",
   "id": "4cc711ce",
   "metadata": {},
   "source": [
    "###### You are driving a little too fast, and a police officer stops you. Write a function to return one of 3 possible results: \"No ticket\", \"Small ticket\", or \"Big Ticket\". If your speed is 60 or less, the result is \"No Ticket\". If speed is between 61 and 80 inclusive, the result is \"Small Ticket\". If speed is 81 or more, the result is \"Big Ticket\". Unless it is your birthday (encoded as a boolean value in the parameters of the function) -- on your birthday, your speed can be 5 higher in all cases."
   ]
  },
  {
   "cell_type": "code",
   "execution_count": 46,
   "id": "9cd7f20b",
   "metadata": {},
   "outputs": [],
   "source": [
    "def ticket(speed,is_birthday):\n",
    "    if (is_birthday==True):\n",
    "        speed = speed-5\n",
    "    if (speed<=60):\n",
    "        print(\"No Ticket\")\n",
    "    elif (speed>60 and speed<=80):\n",
    "        print(\"Small Ticket\")\n",
    "    else:\n",
    "        print(\"Big Ticket\")"
   ]
  },
  {
   "cell_type": "code",
   "execution_count": 49,
   "id": "bcc7fbf0",
   "metadata": {},
   "outputs": [
    {
     "name": "stdout",
     "output_type": "stream",
     "text": [
      "No Ticket\n"
     ]
    }
   ],
   "source": [
    "ticket(62,True)"
   ]
  },
  {
   "cell_type": "code",
   "execution_count": 52,
   "id": "9debc58d",
   "metadata": {},
   "outputs": [
    {
     "name": "stdout",
     "output_type": "stream",
     "text": [
      "Small Ticket\n"
     ]
    }
   ],
   "source": [
    "ticket(81,True)"
   ]
  },
  {
   "cell_type": "code",
   "execution_count": 53,
   "id": "583c5396",
   "metadata": {},
   "outputs": [
    {
     "name": "stdout",
     "output_type": "stream",
     "text": [
      "Big Ticket\n"
     ]
    }
   ],
   "source": [
    "ticket(84,False)"
   ]
  },
  {
   "cell_type": "markdown",
   "id": "5324b9a7",
   "metadata": {},
   "source": [
    "Question\n",
    "Given a string print number num by extracting all the\n",
    "digits from the string as in string\n",
    "Print negative number if the first character in \n",
    "string is '-'\n",
    "eg.\n",
    "-123abcd should return -123,abcd456-->456,fdhfh78dsd89--->7889,-56dssd78-->-5678###### "
   ]
  },
  {
   "cell_type": "code",
   "execution_count": 63,
   "id": "c93088fd",
   "metadata": {},
   "outputs": [
    {
     "name": "stdout",
     "output_type": "stream",
     "text": [
      "Enter the input String : -123abcd\n",
      "-123\n"
     ]
    }
   ],
   "source": [
    "s = input(\"Enter the input String : \")\n",
    "n = \"\"\n",
    "data = [1,2,3,4,5,6,7,8,9,0]\n",
    "\n",
    "if(s[0]==\"-\"):\n",
    "    n = n+s[0]\n",
    "for i in s :\n",
    "    if i in str(data):\n",
    "        n = n+i\n",
    "print(n)     \n",
    "    "
   ]
  },
  {
   "cell_type": "markdown",
   "id": "9540f2ec",
   "metadata": {},
   "source": [
    "###### "
   ]
  },
  {
   "cell_type": "markdown",
   "id": "0c22b96a",
   "metadata": {},
   "source": [
    "######Q2\n",
    "WAP to check whether a number is palindrome or not on following conditions.\n",
    "1. take input number\n",
    "2. add number and its reverse\n",
    "3. check that number is palindrome or not,if not then sum and its reverse"
   ]
  },
  {
   "cell_type": "code",
   "execution_count": 86,
   "id": "3d62253f",
   "metadata": {},
   "outputs": [
    {
     "name": "stdout",
     "output_type": "stream",
     "text": [
      "Enter The Number88\n",
      "Number is: 847\n",
      "Revrse is: 748\n",
      "Number is: 1595\n",
      "Revrse is: 5951\n",
      "Number is: 7546\n",
      "Revrse is: 6457\n",
      "Number is: 14003\n",
      "Revrse is: 30041\n",
      "Number is: 44044\n",
      "Revrse is: 44044\n",
      "Palindrome is: 44044\n"
     ]
    }
   ],
   "source": [
    "num1=input(\"Enter The Number\")\n",
    "num2=int(num1[::-1])\n",
    "num3=str(int(num1)+num2)\n",
    "while num3!=num3[::-1]:\n",
    "    num3=str(int (num3)+int (num3 [:: -1]))\n",
    "    print(\"Number is:\", num3)\n",
    "    print(\"Revrse is:\",num3[:: -1])\n",
    "print(\"Palindrome is:\",num3)"
   ]
  },
  {
   "cell_type": "markdown",
   "id": "5eea76ff",
   "metadata": {},
   "source": [
    "###### Write a python function to find and display the five \n",
    "digit number in which the first digit is two more than \n",
    "the second,the second digit is two more than the third,\n",
    "the fourth digit is two less than the third, and the \n",
    "last digit is two more than\n",
    "the fourth.The sum of the third,fourth and fifth digits\n",
    "equals the first.The sum of all the digits is 19"
   ]
  },
  {
   "cell_type": "code",
   "execution_count": 10,
   "id": "8de88523",
   "metadata": {},
   "outputs": [],
   "source": [
    "def num():\n",
    "    for a in range (0,10):\n",
    "        b = a-2\n",
    "        c = b-2\n",
    "        d = c-2\n",
    "        \n",
    "        if (2*c + d==a) and (a+b+c+d+c==19):\n",
    "            print(a,b,c,d,c)\n",
    "        "
   ]
  },
  {
   "cell_type": "code",
   "execution_count": 11,
   "id": "096efb1f",
   "metadata": {},
   "outputs": [
    {
     "name": "stdout",
     "output_type": "stream",
     "text": [
      "7 5 3 1 3\n"
     ]
    }
   ],
   "source": [
    "num()"
   ]
  },
  {
   "cell_type": "code",
   "execution_count": 12,
   "id": "8c164eb8",
   "metadata": {},
   "outputs": [
    {
     "data": {
      "text/plain": [
       "'C:\\\\Users\\\\swapn'"
      ]
     },
     "execution_count": 12,
     "metadata": {},
     "output_type": "execute_result"
    }
   ],
   "source": [
    "pwd"
   ]
  },
  {
   "cell_type": "code",
   "execution_count": null,
   "id": "8e55d056",
   "metadata": {},
   "outputs": [],
   "source": []
  }
 ],
 "metadata": {
  "kernelspec": {
   "display_name": "Python 3 (ipykernel)",
   "language": "python",
   "name": "python3"
  },
  "language_info": {
   "codemirror_mode": {
    "name": "ipython",
    "version": 3
   },
   "file_extension": ".py",
   "mimetype": "text/x-python",
   "name": "python",
   "nbconvert_exporter": "python",
   "pygments_lexer": "ipython3",
   "version": "3.10.9"
  }
 },
 "nbformat": 4,
 "nbformat_minor": 5
}
